{
 "cells": [
  {
   "cell_type": "markdown",
   "metadata": {},
   "source": [
    "# Inaugural Project"
   ]
  },
  {
   "cell_type": "markdown",
   "metadata": {},
   "source": [
    "> **Note the following:** \n",
    "> 1. This is an example of how to structure your **inaugural project**.\n",
    "> 1. Remember the general advice on structuring and commenting your code from [lecture 5](https://numeconcopenhagen.netlify.com/lectures/Workflow_and_debugging).\n",
    "> 1. Remember this [guide](https://www.markdownguide.org/basic-syntax/) on markdown and (a bit of) latex.\n",
    "> 1. Turn on automatic numbering by clicking on the small icon on top of the table of contents in the left sidebar.\n",
    "> 1. The `inauguralproject.py` file includes a function which can be used multiple times in this notebook."
   ]
  },
  {
   "cell_type": "markdown",
   "metadata": {},
   "source": [
    "Imports and set magics:"
   ]
  },
  {
   "cell_type": "code",
   "execution_count": 116,
   "metadata": {},
   "outputs": [
    {
     "name": "stdout",
     "output_type": "stream",
     "text": [
      "The autoreload extension is already loaded. To reload it, use:\n",
      "  %reload_ext autoreload\n"
     ]
    }
   ],
   "source": [
    "import numpy as np\n",
    "\n",
    "# autoreload modules when code is run\n",
    "%load_ext autoreload\n",
    "%autoreload 2\n",
    "\n",
    "# local modules\n",
    "import inauguralproject\n",
    "\n",
    "# standard imports\n",
    "from types import SimpleNamespace # new? explained below\n",
    "import numpy as np\n",
    "from scipy import optimize\n",
    "import matplotlib.pyplot as plt\n",
    "plt.style.use('seaborn-whitegrid')"
   ]
  },
  {
   "cell_type": "markdown",
   "metadata": {},
   "source": [
    "# Question 1"
   ]
  },
  {
   "cell_type": "markdown",
   "metadata": {},
   "source": [
    "The intiutive way to solve this model remains identical with the method applied when using pen and paper. Hence, this was the most helpful approah to solving this problem:\n",
    "1. Defined the parameters\n",
    "2. Define the model (aa stated with modifications such that eq. (2) and (4) are combined\n",
    "3. Setup maximization problem\n",
    "4. Solve\n",
    "5. Display solution"
   ]
  },
  {
   "cell_type": "code",
   "execution_count": 147,
   "metadata": {},
   "outputs": [
    {
     "data": {
      "text/plain": [
       "(0.35000000225770106, 4.1666666039527485)"
      ]
     },
     "execution_count": 147,
     "metadata": {},
     "output_type": "execute_result"
    }
   ],
   "source": [
    "# Define parameters:\n",
    "par = SimpleNamespace()\n",
    "par.phi = 0.3\n",
    "par.eta = 0.5\n",
    "par.r   = 0.03\n",
    "par.tg  = 0.012\n",
    "par.tp  = 0.004\n",
    "par.ph  = 3.0\n",
    "par.m   = 0.5\n",
    "par.eta_reform = 0.8\n",
    "par.tg_reform  = 0.01\n",
    "par.tp_reform  = 0.009\n",
    "par.ph_reform  = 8.0\n",
    "\n",
    "# Define Model\n",
    "def utility(c, h, par):\n",
    "    return c**(1-par.phi)*h**par.phi\n",
    "\n",
    "#Combined eq. (2) and (4)\n",
    "def budget(h, par):\n",
    "    return par.r*h+par.tg*h*par.eta+par.tp*max(h*par.eta-par.ph,0)\n",
    "\n",
    "def objective(h, par): \n",
    "    c=par.m-budget(h, par)\n",
    "    return -utility(c, h, par)\n",
    "\n",
    "# Solve\n",
    "def solver(par):   \n",
    "    res = optimize.minimize_scalar(objective,args=(par),bounds=None)\n",
    "    \n",
    "# Save solution for h and insert in consumption (which is also saved)\n",
    "    h_star = res.x\n",
    "    c_star = par.m-budget(h_star, par)\n",
    "    return c_star, h_star\n",
    "\n",
    "#Call the solved function to display the final result\n",
    "solver(par)\n"
   ]
  },
  {
   "cell_type": "code",
   "execution_count": 123,
   "metadata": {},
   "outputs": [],
   "source": [
    "# Question 2"
   ]
  },
  {
   "cell_type": "markdown",
   "metadata": {},
   "source": [
    "In this assignment, I add introduce vectors for both c and h, such that I can plot the optimal combination for different levels of m. \n",
    "\n",
    "The result is shown below. "
   ]
  },
  {
   "cell_type": "code",
   "execution_count": 127,
   "metadata": {},
   "outputs": [
    {
     "data": {
      "text/plain": [
       "[<matplotlib.lines.Line2D at 0xfd4e808>]"
      ]
     },
     "execution_count": 127,
     "metadata": {},
     "output_type": "execute_result"
    },
    {
     "data": {
      "image/png": "[encoded data removed]",
      "text/plain": [
       "<Figure size 864x288 with 1 Axes>"
      ]
     },
     "metadata": {},
     "output_type": "display_data"
    }
   ],
   "source": [
    "#Creating the figure\n",
    "fig = plt.figure(figsize=(12,4))\n",
    "\n",
    "N = 100\n",
    "m_vec = np.linspace(0.4,1.5,N)\n",
    "h_vec = np.zeros(N)\n",
    "c_vec = np.zeros(N)\n",
    "\n",
    "#Unpack solutions\n",
    "for i,m in enumerate(m_vec):\n",
    "    par.m = m\n",
    "    c,h=solver(par)\n",
    "    h_vec[i] = h\n",
    "    c_vec[i] = c\n",
    "\n",
    "ax = fig.add_subplot(1,2,1)\n",
    "ax.plot(m_vec,h_vec)\n",
    "\n"
   ]
  },
  {
   "cell_type": "markdown",
   "metadata": {},
   "source": [
    "# Question 3"
   ]
  },
  {
   "cell_type": "markdown",
   "metadata": {},
   "source": [
    "In this assignment I have tried solving the problem as follows:\n",
    "\n",
    "1. Setting the seed\n",
    "2. Define the population of N=10.000 consisting of random numbers drawn from the log-normal distribution of cash-on-hand\n",
    "3. Solved the optimization problem for each cash-on-hand drawn in the population \n",
    "4. Calculated the average tax burden pr. household\n",
    "\n",
    "The sum of all payments is equivalent to the tax revenue. "
   ]
  },
  {
   "cell_type": "code",
   "execution_count": 125,
   "metadata": {},
   "outputs": [
    {
     "name": "stdout",
     "output_type": "stream",
     "text": [
      "[ 0.21068412 -0.66642242 -0.28833632 ... -0.6906937  -0.49138144\n",
      " -0.34072602]\n",
      "set seed to 1 and create numbers:\n",
      "[4.17022005e-01 7.20324493e-01 1.14374817e-04 3.02332573e-01\n",
      " 1.46755891e-01]\n",
      "[0.09233859 0.18626021 0.34556073 0.39676747 0.53881673]\n"
     ]
    },
    {
     "data": {
      "text/plain": [
       "(8.349473623676495e-06, 8.349473623676495e-06)"
      ]
     },
     "execution_count": 125,
     "metadata": {},
     "output_type": "execute_result"
    }
   ],
   "source": [
    "#I start by importing all the modules that I need for this part of the assignment\n",
    "import math\n",
    "import pickle\n",
    "import numpy as np\n",
    "\n",
    "from scipy.stats import norm # normal distribution\n",
    "\n",
    "%matplotlib inline\n",
    "import matplotlib.pyplot as plt\n",
    "plt.style.use('seaborn-whitegrid')\n",
    "import ipywidgets as widgets\n",
    "\n",
    "#Now I define the parameters, genetate random numbers as specified with a log-normal distribution for cash-on-hand with mean -0.4 and std. dev. 0.35\n",
    "#Furthermore, I introduce a new function for T\n",
    "N = 10000\n",
    "X = np.random.normal(loc=-0.4,scale=0.35,size=10000)\n",
    "print(X)\n",
    "\n",
    "print('set seed to 1 and create numbers:')\n",
    "np.random.seed(1)\n",
    "print(np.random.uniform(size=5))\n",
    "print(np.random.uniform(size=5))\n",
    "\n",
    "#Function for Tax revenue\n",
    "def Tax_revenue(h_star, par):\n",
    "    T=par.tg*h_star*par.eta+par.tp*max(h_star*par.eta-par.ph,0)\n",
    "    return T/N\n",
    "\n",
    "def Find_Tax_revenue(h_star, par):\n",
    "    distr = Tax_revenue(h_star, par)\n",
    "    total = distr.sum()\n",
    "    return distr, total\n",
    "\n",
    "Find_Tax_revenue(h, par)\n",
    "\n",
    "\n",
    "#Given that the result from the tax revenue is too small, I have tried an alternative approach where I loop through Find_Tax_Revenue instead\n"
   ]
  },
  {
   "cell_type": "code",
   "execution_count": 126,
   "metadata": {},
   "outputs": [
    {
     "name": "stdout",
     "output_type": "stream",
     "text": [
      "[ 0.21068412 -0.66642242 -0.28833632 ... -0.6906937  -0.49138144\n",
      " -0.34072602]\n",
      "set seed to 1 and create numbers:\n",
      "[4.17022005e-01 7.20324493e-01 1.14374817e-04 3.02332573e-01\n",
      " 1.46755891e-01]\n",
      "[0.09233859 0.18626021 0.34556073 0.39676747 0.53881673]\n"
     ]
    },
    {
     "ename": "RecursionError",
     "evalue": "maximum recursion depth exceeded in comparison",
     "output_type": "error",
     "traceback": [
      "\u001b[1;31m---------------------------------------------------------------------------\u001b[0m",
      "\u001b[1;31mRecursionError\u001b[0m                            Traceback (most recent call last)",
      "\u001b[1;32m<ipython-input-126-88c764e1abba>\u001b[0m in \u001b[0;36m<module>\u001b[1;34m\u001b[0m\n\u001b[0;32m     34\u001b[0m \u001b[1;32mfor\u001b[0m \u001b[0mi\u001b[0m\u001b[1;33m,\u001b[0m\u001b[0mm\u001b[0m \u001b[1;32min\u001b[0m \u001b[0menumerate\u001b[0m\u001b[1;33m(\u001b[0m\u001b[0mm_vec\u001b[0m\u001b[1;33m)\u001b[0m\u001b[1;33m:\u001b[0m\u001b[1;33m\u001b[0m\u001b[1;33m\u001b[0m\u001b[0m\n\u001b[0;32m     35\u001b[0m     \u001b[0mpar\u001b[0m\u001b[1;33m.\u001b[0m\u001b[0mm\u001b[0m \u001b[1;33m=\u001b[0m \u001b[0mm\u001b[0m\u001b[1;33m\u001b[0m\u001b[1;33m\u001b[0m\u001b[0m\n\u001b[1;32m---> 36\u001b[1;33m     \u001b[0mh\u001b[0m\u001b[1;33m=\u001b[0m\u001b[0msolver_tax\u001b[0m\u001b[1;33m(\u001b[0m\u001b[0mpar\u001b[0m\u001b[1;33m)\u001b[0m\u001b[1;33m\u001b[0m\u001b[1;33m\u001b[0m\u001b[0m\n\u001b[0m\u001b[0;32m     37\u001b[0m     \u001b[0mh_vec\u001b[0m\u001b[1;33m[\u001b[0m\u001b[0mi\u001b[0m\u001b[1;33m]\u001b[0m \u001b[1;33m=\u001b[0m \u001b[0mh\u001b[0m\u001b[1;33m\u001b[0m\u001b[1;33m\u001b[0m\u001b[0m\n",
      "\u001b[1;32m<ipython-input-126-88c764e1abba>\u001b[0m in \u001b[0;36msolver_tax\u001b[1;34m(par)\u001b[0m\n\u001b[0;32m     22\u001b[0m \u001b[1;31m# Solve\u001b[0m\u001b[1;33m\u001b[0m\u001b[1;33m\u001b[0m\u001b[1;33m\u001b[0m\u001b[0m\n\u001b[0;32m     23\u001b[0m \u001b[1;32mdef\u001b[0m \u001b[0msolver_tax\u001b[0m\u001b[1;33m(\u001b[0m\u001b[0mpar\u001b[0m\u001b[1;33m)\u001b[0m\u001b[1;33m:\u001b[0m\u001b[1;33m\u001b[0m\u001b[1;33m\u001b[0m\u001b[0m\n\u001b[1;32m---> 24\u001b[1;33m     \u001b[0mres\u001b[0m \u001b[1;33m=\u001b[0m \u001b[0moptimize\u001b[0m\u001b[1;33m.\u001b[0m\u001b[0mminimize_scalar\u001b[0m\u001b[1;33m(\u001b[0m\u001b[0mFind_Tax_revenue\u001b[0m\u001b[1;33m,\u001b[0m\u001b[0margs\u001b[0m\u001b[1;33m=\u001b[0m\u001b[1;33m(\u001b[0m\u001b[0mpar\u001b[0m\u001b[1;33m)\u001b[0m\u001b[1;33m,\u001b[0m\u001b[0mbounds\u001b[0m\u001b[1;33m=\u001b[0m\u001b[1;32mNone\u001b[0m\u001b[1;33m)\u001b[0m\u001b[1;33m\u001b[0m\u001b[1;33m\u001b[0m\u001b[0m\n\u001b[0m\u001b[0;32m     25\u001b[0m \u001b[1;33m\u001b[0m\u001b[0m\n\u001b[0;32m     26\u001b[0m \u001b[1;31m# Save solution for h and insert in consumption (which is also saved)\u001b[0m\u001b[1;33m\u001b[0m\u001b[1;33m\u001b[0m\u001b[1;33m\u001b[0m\u001b[0m\n",
      "\u001b[1;32m~\\anaconda3\\lib\\site-packages\\scipy\\optimize\\_minimize.py\u001b[0m in \u001b[0;36mminimize_scalar\u001b[1;34m(fun, bracket, bounds, args, method, tol, options)\u001b[0m\n\u001b[0;32m    788\u001b[0m         \u001b[1;32mreturn\u001b[0m \u001b[0mmethod\u001b[0m\u001b[1;33m(\u001b[0m\u001b[0mfun\u001b[0m\u001b[1;33m,\u001b[0m \u001b[0margs\u001b[0m\u001b[1;33m=\u001b[0m\u001b[0margs\u001b[0m\u001b[1;33m,\u001b[0m \u001b[0mbracket\u001b[0m\u001b[1;33m=\u001b[0m\u001b[0mbracket\u001b[0m\u001b[1;33m,\u001b[0m \u001b[0mbounds\u001b[0m\u001b[1;33m=\u001b[0m\u001b[0mbounds\u001b[0m\u001b[1;33m,\u001b[0m \u001b[1;33m**\u001b[0m\u001b[0moptions\u001b[0m\u001b[1;33m)\u001b[0m\u001b[1;33m\u001b[0m\u001b[1;33m\u001b[0m\u001b[0m\n\u001b[0;32m    789\u001b[0m     \u001b[1;32melif\u001b[0m \u001b[0mmeth\u001b[0m \u001b[1;33m==\u001b[0m \u001b[1;34m'brent'\u001b[0m\u001b[1;33m:\u001b[0m\u001b[1;33m\u001b[0m\u001b[1;33m\u001b[0m\u001b[0m\n\u001b[1;32m--> 790\u001b[1;33m         \u001b[1;32mreturn\u001b[0m \u001b[0m_minimize_scalar_brent\u001b[0m\u001b[1;33m(\u001b[0m\u001b[0mfun\u001b[0m\u001b[1;33m,\u001b[0m \u001b[0mbracket\u001b[0m\u001b[1;33m,\u001b[0m \u001b[0margs\u001b[0m\u001b[1;33m,\u001b[0m \u001b[1;33m**\u001b[0m\u001b[0moptions\u001b[0m\u001b[1;33m)\u001b[0m\u001b[1;33m\u001b[0m\u001b[1;33m\u001b[0m\u001b[0m\n\u001b[0m\u001b[0;32m    791\u001b[0m     \u001b[1;32melif\u001b[0m \u001b[0mmeth\u001b[0m \u001b[1;33m==\u001b[0m \u001b[1;34m'bounded'\u001b[0m\u001b[1;33m:\u001b[0m\u001b[1;33m\u001b[0m\u001b[1;33m\u001b[0m\u001b[0m\n\u001b[0;32m    792\u001b[0m         \u001b[1;32mif\u001b[0m \u001b[0mbounds\u001b[0m \u001b[1;32mis\u001b[0m \u001b[1;32mNone\u001b[0m\u001b[1;33m:\u001b[0m\u001b[1;33m\u001b[0m\u001b[1;33m\u001b[0m\u001b[0m\n",
      "\u001b[1;32m~\\anaconda3\\lib\\site-packages\\scipy\\optimize\\optimize.py\u001b[0m in \u001b[0;36m_minimize_scalar_brent\u001b[1;34m(func, brack, args, xtol, maxiter, **unknown_options)\u001b[0m\n\u001b[0;32m   2328\u001b[0m                   full_output=True, maxiter=maxiter)\n\u001b[0;32m   2329\u001b[0m     \u001b[0mbrent\u001b[0m\u001b[1;33m.\u001b[0m\u001b[0mset_bracket\u001b[0m\u001b[1;33m(\u001b[0m\u001b[0mbrack\u001b[0m\u001b[1;33m)\u001b[0m\u001b[1;33m\u001b[0m\u001b[1;33m\u001b[0m\u001b[0m\n\u001b[1;32m-> 2330\u001b[1;33m     \u001b[0mbrent\u001b[0m\u001b[1;33m.\u001b[0m\u001b[0moptimize\u001b[0m\u001b[1;33m(\u001b[0m\u001b[1;33m)\u001b[0m\u001b[1;33m\u001b[0m\u001b[1;33m\u001b[0m\u001b[0m\n\u001b[0m\u001b[0;32m   2331\u001b[0m     \u001b[0mx\u001b[0m\u001b[1;33m,\u001b[0m \u001b[0mfval\u001b[0m\u001b[1;33m,\u001b[0m \u001b[0mnit\u001b[0m\u001b[1;33m,\u001b[0m \u001b[0mnfev\u001b[0m \u001b[1;33m=\u001b[0m \u001b[0mbrent\u001b[0m\u001b[1;33m.\u001b[0m\u001b[0mget_result\u001b[0m\u001b[1;33m(\u001b[0m\u001b[0mfull_output\u001b[0m\u001b[1;33m=\u001b[0m\u001b[1;32mTrue\u001b[0m\u001b[1;33m)\u001b[0m\u001b[1;33m\u001b[0m\u001b[1;33m\u001b[0m\u001b[0m\n\u001b[0;32m   2332\u001b[0m \u001b[1;33m\u001b[0m\u001b[0m\n",
      "\u001b[1;32m~\\anaconda3\\lib\\site-packages\\scipy\\optimize\\optimize.py\u001b[0m in \u001b[0;36moptimize\u001b[1;34m(self)\u001b[0m\n\u001b[0;32m   2112\u001b[0m         \u001b[1;31m# set up for optimization\u001b[0m\u001b[1;33m\u001b[0m\u001b[1;33m\u001b[0m\u001b[1;33m\u001b[0m\u001b[0m\n\u001b[0;32m   2113\u001b[0m         \u001b[0mfunc\u001b[0m \u001b[1;33m=\u001b[0m \u001b[0mself\u001b[0m\u001b[1;33m.\u001b[0m\u001b[0mfunc\u001b[0m\u001b[1;33m\u001b[0m\u001b[1;33m\u001b[0m\u001b[0m\n\u001b[1;32m-> 2114\u001b[1;33m         \u001b[0mxa\u001b[0m\u001b[1;33m,\u001b[0m \u001b[0mxb\u001b[0m\u001b[1;33m,\u001b[0m \u001b[0mxc\u001b[0m\u001b[1;33m,\u001b[0m \u001b[0mfa\u001b[0m\u001b[1;33m,\u001b[0m \u001b[0mfb\u001b[0m\u001b[1;33m,\u001b[0m \u001b[0mfc\u001b[0m\u001b[1;33m,\u001b[0m \u001b[0mfuncalls\u001b[0m \u001b[1;33m=\u001b[0m \u001b[0mself\u001b[0m\u001b[1;33m.\u001b[0m\u001b[0mget_bracket_info\u001b[0m\u001b[1;33m(\u001b[0m\u001b[1;33m)\u001b[0m\u001b[1;33m\u001b[0m\u001b[1;33m\u001b[0m\u001b[0m\n\u001b[0m\u001b[0;32m   2115\u001b[0m         \u001b[0m_mintol\u001b[0m \u001b[1;33m=\u001b[0m \u001b[0mself\u001b[0m\u001b[1;33m.\u001b[0m\u001b[0m_mintol\u001b[0m\u001b[1;33m\u001b[0m\u001b[1;33m\u001b[0m\u001b[0m\n\u001b[0;32m   2116\u001b[0m         \u001b[0m_cg\u001b[0m \u001b[1;33m=\u001b[0m \u001b[0mself\u001b[0m\u001b[1;33m.\u001b[0m\u001b[0m_cg\u001b[0m\u001b[1;33m\u001b[0m\u001b[1;33m\u001b[0m\u001b[0m\n",
      "\u001b[1;32m~\\anaconda3\\lib\\site-packages\\scipy\\optimize\\optimize.py\u001b[0m in \u001b[0;36mget_bracket_info\u001b[1;34m(self)\u001b[0m\n\u001b[0;32m   2086\u001b[0m         \u001b[1;31m### carefully DOCUMENT any CHANGES in core ##\u001b[0m\u001b[1;33m\u001b[0m\u001b[1;33m\u001b[0m\u001b[1;33m\u001b[0m\u001b[0m\n\u001b[0;32m   2087\u001b[0m         \u001b[1;32mif\u001b[0m \u001b[0mbrack\u001b[0m \u001b[1;32mis\u001b[0m \u001b[1;32mNone\u001b[0m\u001b[1;33m:\u001b[0m\u001b[1;33m\u001b[0m\u001b[1;33m\u001b[0m\u001b[0m\n\u001b[1;32m-> 2088\u001b[1;33m             \u001b[0mxa\u001b[0m\u001b[1;33m,\u001b[0m \u001b[0mxb\u001b[0m\u001b[1;33m,\u001b[0m \u001b[0mxc\u001b[0m\u001b[1;33m,\u001b[0m \u001b[0mfa\u001b[0m\u001b[1;33m,\u001b[0m \u001b[0mfb\u001b[0m\u001b[1;33m,\u001b[0m \u001b[0mfc\u001b[0m\u001b[1;33m,\u001b[0m \u001b[0mfuncalls\u001b[0m \u001b[1;33m=\u001b[0m \u001b[0mbracket\u001b[0m\u001b[1;33m(\u001b[0m\u001b[0mfunc\u001b[0m\u001b[1;33m,\u001b[0m \u001b[0margs\u001b[0m\u001b[1;33m=\u001b[0m\u001b[0margs\u001b[0m\u001b[1;33m)\u001b[0m\u001b[1;33m\u001b[0m\u001b[1;33m\u001b[0m\u001b[0m\n\u001b[0m\u001b[0;32m   2089\u001b[0m         \u001b[1;32melif\u001b[0m \u001b[0mlen\u001b[0m\u001b[1;33m(\u001b[0m\u001b[0mbrack\u001b[0m\u001b[1;33m)\u001b[0m \u001b[1;33m==\u001b[0m \u001b[1;36m2\u001b[0m\u001b[1;33m:\u001b[0m\u001b[1;33m\u001b[0m\u001b[1;33m\u001b[0m\u001b[0m\n\u001b[0;32m   2090\u001b[0m             xa, xb, xc, fa, fb, fc, funcalls = bracket(func, xa=brack[0],\n",
      "\u001b[1;32m~\\anaconda3\\lib\\site-packages\\scipy\\optimize\\optimize.py\u001b[0m in \u001b[0;36mbracket\u001b[1;34m(func, xa, xb, args, grow_limit, maxiter)\u001b[0m\n\u001b[0;32m   2536\u001b[0m     \u001b[0m_gold\u001b[0m \u001b[1;33m=\u001b[0m \u001b[1;36m1.618034\u001b[0m  \u001b[1;31m# golden ratio: (1.0+sqrt(5.0))/2.0\u001b[0m\u001b[1;33m\u001b[0m\u001b[1;33m\u001b[0m\u001b[0m\n\u001b[0;32m   2537\u001b[0m     \u001b[0m_verysmall_num\u001b[0m \u001b[1;33m=\u001b[0m \u001b[1;36m1e-21\u001b[0m\u001b[1;33m\u001b[0m\u001b[1;33m\u001b[0m\u001b[0m\n\u001b[1;32m-> 2538\u001b[1;33m     \u001b[0mfa\u001b[0m \u001b[1;33m=\u001b[0m \u001b[0mfunc\u001b[0m\u001b[1;33m(\u001b[0m\u001b[1;33m*\u001b[0m\u001b[1;33m(\u001b[0m\u001b[0mxa\u001b[0m\u001b[1;33m,\u001b[0m\u001b[1;33m)\u001b[0m \u001b[1;33m+\u001b[0m \u001b[0margs\u001b[0m\u001b[1;33m)\u001b[0m\u001b[1;33m\u001b[0m\u001b[1;33m\u001b[0m\u001b[0m\n\u001b[0m\u001b[0;32m   2539\u001b[0m     \u001b[0mfb\u001b[0m \u001b[1;33m=\u001b[0m \u001b[0mfunc\u001b[0m\u001b[1;33m(\u001b[0m\u001b[1;33m*\u001b[0m\u001b[1;33m(\u001b[0m\u001b[0mxb\u001b[0m\u001b[1;33m,\u001b[0m\u001b[1;33m)\u001b[0m \u001b[1;33m+\u001b[0m \u001b[0margs\u001b[0m\u001b[1;33m)\u001b[0m\u001b[1;33m\u001b[0m\u001b[1;33m\u001b[0m\u001b[0m\n\u001b[0;32m   2540\u001b[0m     \u001b[1;32mif\u001b[0m \u001b[1;33m(\u001b[0m\u001b[0mfa\u001b[0m \u001b[1;33m<\u001b[0m \u001b[0mfb\u001b[0m\u001b[1;33m)\u001b[0m\u001b[1;33m:\u001b[0m                      \u001b[1;31m# Switch so fa > fb\u001b[0m\u001b[1;33m\u001b[0m\u001b[1;33m\u001b[0m\u001b[0m\n",
      "\u001b[1;32m<ipython-input-126-88c764e1abba>\u001b[0m in \u001b[0;36mFind_Tax_revenue\u001b[1;34m(h, par)\u001b[0m\n\u001b[0;32m     18\u001b[0m \u001b[1;32mdef\u001b[0m \u001b[0mFind_Tax_revenue\u001b[0m\u001b[1;33m(\u001b[0m\u001b[0mh\u001b[0m\u001b[1;33m,\u001b[0m \u001b[0mpar\u001b[0m\u001b[1;33m)\u001b[0m\u001b[1;33m:\u001b[0m\u001b[1;33m\u001b[0m\u001b[1;33m\u001b[0m\u001b[0m\n\u001b[0;32m     19\u001b[0m     \u001b[0mavg_T\u001b[0m\u001b[1;33m=\u001b[0m\u001b[0mTax_revenue\u001b[0m\u001b[1;33m(\u001b[0m\u001b[0mh\u001b[0m\u001b[1;33m,\u001b[0m \u001b[0mpar\u001b[0m\u001b[1;33m)\u001b[0m\u001b[1;33m/\u001b[0m\u001b[0mN\u001b[0m\u001b[1;33m\u001b[0m\u001b[1;33m\u001b[0m\u001b[0m\n\u001b[1;32m---> 20\u001b[1;33m     \u001b[1;32mreturn\u001b[0m \u001b[1;33m-\u001b[0m\u001b[0mFind_Tax_revenue\u001b[0m\u001b[1;33m(\u001b[0m\u001b[0mh\u001b[0m\u001b[1;33m,\u001b[0m \u001b[0mpar\u001b[0m\u001b[1;33m)\u001b[0m\u001b[1;33m\u001b[0m\u001b[1;33m\u001b[0m\u001b[0m\n\u001b[0m\u001b[0;32m     21\u001b[0m \u001b[1;33m\u001b[0m\u001b[0m\n\u001b[0;32m     22\u001b[0m \u001b[1;31m# Solve\u001b[0m\u001b[1;33m\u001b[0m\u001b[1;33m\u001b[0m\u001b[1;33m\u001b[0m\u001b[0m\n",
      "... last 1 frames repeated, from the frame below ...\n",
      "\u001b[1;32m<ipython-input-126-88c764e1abba>\u001b[0m in \u001b[0;36mFind_Tax_revenue\u001b[1;34m(h, par)\u001b[0m\n\u001b[0;32m     18\u001b[0m \u001b[1;32mdef\u001b[0m \u001b[0mFind_Tax_revenue\u001b[0m\u001b[1;33m(\u001b[0m\u001b[0mh\u001b[0m\u001b[1;33m,\u001b[0m \u001b[0mpar\u001b[0m\u001b[1;33m)\u001b[0m\u001b[1;33m:\u001b[0m\u001b[1;33m\u001b[0m\u001b[1;33m\u001b[0m\u001b[0m\n\u001b[0;32m     19\u001b[0m     \u001b[0mavg_T\u001b[0m\u001b[1;33m=\u001b[0m\u001b[0mTax_revenue\u001b[0m\u001b[1;33m(\u001b[0m\u001b[0mh\u001b[0m\u001b[1;33m,\u001b[0m \u001b[0mpar\u001b[0m\u001b[1;33m)\u001b[0m\u001b[1;33m/\u001b[0m\u001b[0mN\u001b[0m\u001b[1;33m\u001b[0m\u001b[1;33m\u001b[0m\u001b[0m\n\u001b[1;32m---> 20\u001b[1;33m     \u001b[1;32mreturn\u001b[0m \u001b[1;33m-\u001b[0m\u001b[0mFind_Tax_revenue\u001b[0m\u001b[1;33m(\u001b[0m\u001b[0mh\u001b[0m\u001b[1;33m,\u001b[0m \u001b[0mpar\u001b[0m\u001b[1;33m)\u001b[0m\u001b[1;33m\u001b[0m\u001b[1;33m\u001b[0m\u001b[0m\n\u001b[0m\u001b[0;32m     21\u001b[0m \u001b[1;33m\u001b[0m\u001b[0m\n\u001b[0;32m     22\u001b[0m \u001b[1;31m# Solve\u001b[0m\u001b[1;33m\u001b[0m\u001b[1;33m\u001b[0m\u001b[1;33m\u001b[0m\u001b[0m\n",
      "\u001b[1;31mRecursionError\u001b[0m: maximum recursion depth exceeded in comparison"
     ]
    }
   ],
   "source": [
    "#Given that the result from the tax revenue is too small, I have tried an alternative approach where I loop through Find_Tax_Revenue instead\n",
    "\n",
    "#Now I define the parameters, genetate random numbers as specified with a log-normal distribution for cash-on-hand with mean -0.4 and std. dev. 0.35\n",
    "#Furthermore, I introduce a new function for T\n",
    "N = 10000\n",
    "X = np.random.normal(loc=-0.4,scale=0.35,size=10000)\n",
    "print(X)\n",
    "\n",
    "print('set seed to 1 and create numbers:')\n",
    "np.random.seed(1)\n",
    "print(np.random.uniform(size=5))\n",
    "print(np.random.uniform(size=5))\n",
    "\n",
    "#Function for Tax revenue\n",
    "def Tax_revenue(h, par):\n",
    "    return par.tg*h*par.eta+par.tp*max(h*par.eta-par.ph,0)\n",
    "    \n",
    "def Find_Tax_revenue(h, par):\n",
    "    avg_T=Tax_revenue(h, par)/N\n",
    "    return -Find_Tax_revenue(h, par)\n",
    "\n",
    "# Solve\n",
    "def solver_tax(par):   \n",
    "    res = optimize.minimize_scalar(Find_Tax_revenue,args=(par),bounds=None)\n",
    "    \n",
    "# Save solution for h and insert in consumption (which is also saved)\n",
    "    h_star = res.x\n",
    "    return h_star\n",
    "\n",
    "m_vec = np.linspace(0.4,1.5,N)\n",
    "h_vec = np.zeros(N)\n",
    "\n",
    "#Unpack solutions\n",
    "for i,m in enumerate(m_vec):\n",
    "    par.m = m\n",
    "    h=solver_tax(par)\n",
    "    h_vec[i] = h"
   ]
  },
  {
   "cell_type": "markdown",
   "metadata": {},
   "source": [
    "# Question 4"
   ]
  },
  {
   "cell_type": "markdown",
   "metadata": {},
   "source": [
    "Instead of creating a new dictionary at this point, I have addedd the reform-parameters to the SimpleNameSpace in the beginning of the assignment.\n",
    "Hence, these are denoted with \"_reform\". However, they are first taken in to use from this assignment. \n",
    "As show in the result of the code, the average tax burden pr. household increases with the new reform. "
   ]
  },
  {
   "cell_type": "code",
   "execution_count": 132,
   "metadata": {},
   "outputs": [
    {
     "name": "stdout",
     "output_type": "stream",
     "text": [
      "[ 0.21068412 -0.66642242 -0.28833632 ... -0.6906937  -0.49138144\n",
      " -0.34072602]\n",
      "set seed to 1 and create numbers:\n",
      "[4.17022005e-01 7.20324493e-01 1.14374817e-04 3.02332573e-01\n",
      " 1.46755891e-01]\n",
      "[0.09233859 0.18626021 0.34556073 0.39676747 0.53881673]\n"
     ]
    },
    {
     "data": {
      "text/plain": [
       "(1.0943999884985339e-05, 1.0943999884985339e-05)"
      ]
     },
     "execution_count": 132,
     "metadata": {},
     "output_type": "execute_result"
    },
    {
     "data": {
      "image/png": "[encoded data removed]",
      "text/plain": [
       "<Figure size 864x288 with 1 Axes>"
      ]
     },
     "metadata": {},
     "output_type": "display_data"
    }
   ],
   "source": [
    "#Instead of creating a new dictionary at this point, I have addedd the reform-parameters to the SimpleNameSpace in the beginning of the assignment.\n",
    "#Hence, these are denoted with \"_reform\". However, they are first taken in to use from this assignment. \n",
    "#Now we re-run the other question, but with the new tax reform:\n",
    "\n",
    "# Define parameters:\n",
    "#par = SimpleNamespace()\n",
    "#par.phi = 0.3\n",
    "#par.eta = 0.5\n",
    "#par.r   = 0.03\n",
    "#par.tg  = 0.012\n",
    "#par.tp  = 0.004\n",
    "#par.ph  = 3.0\n",
    "#par.m   = 0.5\n",
    "#par.eta_reform = 0.8\n",
    "#par.tg_reform  = 0.01\n",
    "#par.tp_reform  = 0.009\n",
    "#par.ph_reform  = 8.0\n",
    "\n",
    "#QUESTION 1 REFORMED\n",
    "\n",
    "# Define Model\n",
    "def utility_reform(c, h, par):\n",
    "    return c**(1-par.phi)*h**par.phi\n",
    "\n",
    "#Combined eq. (2) and (4)\n",
    "def budget_reform(h, par):\n",
    "    return par.r*h+par.tg_reform*h*par.eta_reform+par.tp_reform*max(h*par.eta_reform-par.ph_reform,0)\n",
    "\n",
    "def objective_reform(h, par): \n",
    "    c=par.m-budget_reform(h, par)\n",
    "    return -utility_reform(c, h, par)\n",
    "\n",
    "# Solve\n",
    "def solver_reform(par):   \n",
    "    res = optimize.minimize_scalar(objective_reform,args=(par),bounds=None)\n",
    "    \n",
    "# Save solution for h and insert in consumption (which is also saved)\n",
    "    h_star_reform = res.x\n",
    "    c_star_reform = par.m-budget_reform(h_star_reform, par)\n",
    "    return c_star_reform, h_star_reform\n",
    "\n",
    "#Call the solved function to display the final result\n",
    "solver_reform(par)\n",
    "\n",
    "#QUESTION 2 REFORMED\n",
    "\n",
    "#Creating the figure\n",
    "fig = plt.figure(figsize=(12,4))\n",
    "\n",
    "N = 100\n",
    "m_vec_reform = np.linspace(0.4,1.5,N)\n",
    "h_vec_reform = np.zeros(N)\n",
    "c_vec_reform = np.zeros(N)\n",
    "\n",
    "#Unpack solutions\n",
    "for i,m in enumerate(m_vec_reform):\n",
    "    par.m = m\n",
    "    c,h=solver(par)\n",
    "    h_vec_reform[i] = h\n",
    "    c_vec_reform[i] = c\n",
    "\n",
    "ax = fig.add_subplot(1,2,1)\n",
    "ax.plot(m_vec_reform,h_vec_reform)\n",
    "\n",
    "#QUESTION 3 REFORMED\n",
    "\n",
    "#Now I define the parameters, genetate random numbers as specified with a log-normal distribution for cash-on-hand with mean -0.4 and std. dev. 0.35\n",
    "#Furthermore, I introduce a new function for T\n",
    "N = 10000\n",
    "X = np.random.normal(loc=-0.4,scale=0.35,size=10000)\n",
    "print(X)\n",
    "\n",
    "print('set seed to 1 and create numbers:')\n",
    "np.random.seed(1)\n",
    "print(np.random.uniform(size=5))\n",
    "print(np.random.uniform(size=5))\n",
    "\n",
    "#Function for Tax revenue\n",
    "def Tax_revenue(h_star, par):\n",
    "    T=par.tg_reform*h_star*par.eta_reform+par.tp_reform*max(h_star*par.eta_reform-par.ph_reform,0)\n",
    "    return T/N\n",
    "\n",
    "def Find_Tax_revenue(h_star_reform, par):\n",
    "    distr = Tax_revenue(h_star_reform, par)\n",
    "    total = distr.sum()\n",
    "    return distr, total\n",
    "\n",
    "Find_Tax_revenue(h, par)\n"
   ]
  },
  {
   "cell_type": "markdown",
   "metadata": {},
   "source": [
    "# Question 5"
   ]
  },
  {
   "cell_type": "markdown",
   "metadata": {},
   "source": [
    "In order to implement the new reform, but without interfering with the tax burden, we take the average tax burden from assignment (3) is fixed and then we optimize for T^g (ultimately by offsetting any increase cause by the reform). \n"
   ]
  },
  {
   "cell_type": "code",
   "execution_count": 150,
   "metadata": {},
   "outputs": [
    {
     "name": "stdout",
     "output_type": "stream",
     "text": [
      "[ 0.21068412 -0.66642242 -0.28833632 ... -0.6906937  -0.49138144\n",
      " -0.34072602]\n",
      "set seed to 1 and create numbers:\n",
      "[4.17022005e-01 7.20324493e-01 1.14374817e-04 3.02332573e-01\n",
      " 1.46755891e-01]\n",
      "[0.09233859 0.18626021 0.34556073 0.39676747 0.53881673]\n"
     ]
    },
    {
     "data": {
      "text/plain": [
       "(-0.0014591713807822245, -0.0014591713807822245)"
      ]
     },
     "execution_count": 150,
     "metadata": {},
     "output_type": "execute_result"
    }
   ],
   "source": [
    "#We can start by setting up the population, seed and distribution for cash-on-hand\n",
    "N = 10000\n",
    "X = np.random.normal(loc=-0.4,scale=0.35,size=10000)\n",
    "print(X)\n",
    "\n",
    "print('set seed to 1 and create numbers:')\n",
    "np.random.seed(1)\n",
    "print(np.random.uniform(size=5))\n",
    "print(np.random.uniform(size=5))\n",
    "\n",
    "#Now, we can define a new function for T^g and solve it\n",
    "def Tg_reform(h_star, par):\n",
    "    Tg=(Tax_revenue(h_star, par)-par.tp_reform*max(h_star*par.eta_reform-par.ph_reform,0))/(h_star*par.eta_reform)\n",
    "    return Tg\n",
    "\n",
    "def Fing_Tg_reform(h, par):\n",
    "    distr = Tg_reform(h, par)\n",
    "    total = distr.sum()\n",
    "    return distr, total\n",
    "\n",
    "Fing_Tg_reform(h, par)"
   ]
  },
  {
   "cell_type": "markdown",
   "metadata": {},
   "source": [
    "# Conclusion"
   ]
  },
  {
   "cell_type": "markdown",
   "metadata": {},
   "source": [
    "The model framework can be setup in code such that i simulated scenario allows for a clear solution to each problem that easily demonstrates the dynamics of the model. \n",
    "It is shown that the reforming the tax without concern for distortion in the average tax burden for each household yields a sub-optimal solution. However, the problem can be solved by ensuring no distortion in the tax burden by offsetting the parameter increases using T^g. "
   ]
  },
  {
   "cell_type": "code",
   "execution_count": null,
   "metadata": {},
   "outputs": [],
   "source": []
  }
 ],
 "metadata": {
  "kernelspec": {
   "display_name": "Python 3",
   "language": "python",
   "name": "python3"
  },
  "language_info": {
   "codemirror_mode": {
    "name": "ipython",
    "version": 3
   },
   "file_extension": ".py",
   "mimetype": "text/x-python",
   "name": "python",
   "nbconvert_exporter": "python",
   "pygments_lexer": "ipython3",
   "version": "3.8.8"
  },
  "toc-autonumbering": true
 },
 "nbformat": 4,
 "nbformat_minor": 4
}

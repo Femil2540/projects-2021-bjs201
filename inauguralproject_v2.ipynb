{
 "cells": [
  {
   "cell_type": "markdown",
   "metadata": {},
   "source": [
    "# Inaugural Project"
   ]
  },
  {
   "cell_type": "markdown",
   "metadata": {},
   "source": [
    "> **Note the following:** \n",
    "> 1. This is an example of how to structure your **inaugural project**.\n",
    "> 1. Remember the general advice on structuring and commenting your code from [lecture 5](https://numeconcopenhagen.netlify.com/lectures/Workflow_and_debugging).\n",
    "> 1. Remember this [guide](https://www.markdownguide.org/basic-syntax/) on markdown and (a bit of) latex.\n",
    "> 1. Turn on automatic numbering by clicking on the small icon on top of the table of contents in the left sidebar.\n",
    "> 1. The `inauguralproject.py` file includes a function which can be used multiple times in this notebook."
   ]
  },
  {
   "cell_type": "markdown",
   "metadata": {},
   "source": [
    "Imports and set magics:"
   ]
  },
  {
   "cell_type": "code",
   "execution_count": 7,
   "metadata": {},
   "outputs": [],
   "source": [
    "import numpy as np\n",
    "from scipy import optimize\n",
    "from matplotlib import pyplot as plt\n",
    "\n",
    "# Import functions created to solve the project\n",
    "import inauguralproject_v2 as ip\n",
    "\n",
    "# Use import lib to reload changes in inauguralproject.py\n",
    "import importlib\n",
    "#importlib.reload(ip)\n",
    "from types import SimpleNamespace # new? explained below\n",
    "\n",
    "mp = {'phi': 0.3, 'epsilon': 0.5, 'r': 0.03, 'tau_g': 0.012, 'tau_p': 0.004, 'p_bar': 3}"
   ]
  },
  {
   "cell_type": "markdown",
   "metadata": {},
   "source": [
    "# Question 1"
   ]
  },
  {
   "cell_type": "markdown",
   "metadata": {},
   "source": [
    "The intiutive way to solve this model remains identical with the method applied when using pen and paper. Hence, this was the most helpful approah to solving this problem:\n",
    "1. Defined the parameters\n",
    "2. Define the model (aa stated with modifications such that eq. (2) and (4) are combined\n",
    "3. Setup maximization problem\n",
    "4. Solve\n",
    "5. Display solution"
   ]
  },
  {
   "cell_type": "code",
   "execution_count": 8,
   "metadata": {},
   "outputs": [
    {
     "data": {
      "text/plain": [
       "(0.35000000225770106, 4.1666666039527485)"
      ]
     },
     "execution_count": 8,
     "metadata": {},
     "output_type": "execute_result"
    }
   ],
   "source": [
    "# Define parameters:\n",
    "par = SimpleNamespace()\n",
    "par.phi = 0.3\n",
    "par.eta = 0.5\n",
    "par.r   = 0.03\n",
    "par.tg  = 0.012\n",
    "par.tp  = 0.004\n",
    "par.ph  = 3.0\n",
    "par.m   = 0.5\n",
    "par.eta_reform = 0.8\n",
    "par.tg_reform  = 0.01\n",
    "par.tp_reform  = 0.009\n",
    "par.ph_reform  = 8.0\n",
    "\n",
    "# Define Model\n",
    "def utility(c, h, par):\n",
    "    return c**(1-par.phi)*h**par.phi\n",
    "\n",
    "#Combined eq. (2) and (4)\n",
    "def budget(h, par):\n",
    "    return par.r*h+par.tg*h*par.eta+par.tp*max(h*par.eta-par.ph,0)\n",
    "\n",
    "def objective(h, par): \n",
    "    c=par.m-budget(h, par)\n",
    "    return -utility(c, h, par)\n",
    "\n",
    "# Solve\n",
    "def solver(par):   \n",
    "    res = optimize.minimize_scalar(objective,args=(par),bounds=None)\n",
    "    \n",
    "# Save solution for h and insert in consumption (which is also saved)\n",
    "    h_star = res.x\n",
    "    c_star = par.m-budget(h_star, par)\n",
    "    return c_star, h_star\n",
    "\n",
    "#Call the solved function to display the final result\n",
    "solver(par)\n"
   ]
  },
  {
   "cell_type": "code",
   "execution_count": 9,
   "metadata": {},
   "outputs": [],
   "source": [
    "# Question 2"
   ]
  },
  {
   "cell_type": "markdown",
   "metadata": {},
   "source": [
    "In this assignment, I add introduce vectors for both c and h, such that I can plot the optimal combination for different levels of m. \n",
    "\n",
    "The result is shown below. "
   ]
  },
  {
   "cell_type": "code",
   "execution_count": 10,
   "metadata": {},
   "outputs": [
    {
     "data": {
      "text/plain": [
       "[<matplotlib.lines.Line2D at 0xcfe8f88>]"
      ]
     },
     "execution_count": 10,
     "metadata": {},
     "output_type": "execute_result"
    },
    {
     "data": {
      "image/png": "[encoded data removed]",
      "text/plain": [
       "<Figure size 864x288 with 1 Axes>"
      ]
     },
     "metadata": {
      "needs_background": "light"
     },
     "output_type": "display_data"
    }
   ],
   "source": [
    "#Creating the figure\n",
    "fig = plt.figure(figsize=(12,4))\n",
    "\n",
    "N = 100\n",
    "m_vec = np.linspace(0.4,1.5,N)\n",
    "h_vec = np.zeros(N)\n",
    "c_vec = np.zeros(N)\n",
    "\n",
    "#Unpack solutions\n",
    "for i,m in enumerate(m_vec):\n",
    "    par.m = m\n",
    "    c,h=solver(par)\n",
    "    h_vec[i] = h\n",
    "    c_vec[i] = c\n",
    "\n",
    "ax = fig.add_subplot(1,2,1)\n",
    "ax.plot(m_vec,h_vec)\n",
    "\n"
   ]
  },
  {
   "cell_type": "markdown",
   "metadata": {},
   "source": [
    "# Question 3"
   ]
  },
  {
   "cell_type": "markdown",
   "metadata": {},
   "source": [
    "In this assignment I have tried solving the problem as follows:\n",
    "\n",
    "1. Setting the seed\n",
    "2. Define the population of N=10.000 consisting of random numbers drawn from the log-normal distribution of cash-on-hand\n",
    "3. Solved the optimization problem for each cash-on-hand drawn in the population \n",
    "4. Calculated the average tax burden pr. household\n",
    "\n",
    "The sum of all payments is equivalent to the tax revenue. "
   ]
  },
  {
   "cell_type": "code",
   "execution_count": 11,
   "metadata": {},
   "outputs": [
    {
     "name": "stdout",
     "output_type": "stream",
     "text": [
      "Average housing tax revenue (1000s): 36.171\n"
     ]
    }
   ],
   "source": [
    "N = 10\n",
    "np.random.seed(1)\n",
    "ms = np.random.lognormal(-0.40, 0.35, size = N)\n",
    "\n",
    "\n",
    "# Tax revenues\n",
    "tax_revenues, hs_star = ip.tax_revenues(mp, ms)\n",
    "\n",
    "# Print results\n",
    "print(f'Average housing tax revenue (1000s): {tax_revenues.mean()*1e3:2.3f}')\n",
    "\n",
    "# Store avg. revenues\n",
    "avg_tax_revenue_base = tax_revenues.mean()"
   ]
  },
  {
   "cell_type": "markdown",
   "metadata": {},
   "source": [
    "# Question 4"
   ]
  },
  {
   "cell_type": "markdown",
   "metadata": {},
   "source": [
    "Instead of creating a new dictionary at this point, I have addedd the reform-parameters to the SimpleNameSpace in the beginning of the assignment.\n",
    "Hence, these are denoted with \"_reform\". However, they are first taken in to use from this assignment. \n",
    "As show in the result of the code, the average tax burden pr. household increases with the new reform. \n"
   ]
  },
  {
   "cell_type": "code",
   "execution_count": 12,
   "metadata": {},
   "outputs": [
    {
     "name": "stdout",
     "output_type": "stream",
     "text": [
      "Avg. tax after reform:  44.597\n",
      " min tax:  18.918, \n",
      " max tax:  77.970\n"
     ]
    }
   ],
   "source": [
    "# New parameters\n",
    "mp_reform = {'phi': 0.3, 'epsilon': 0.8, 'r': 0.03, 'tau_g': 0.01, 'tau_p': 0.009, 'p_bar': 8}\n",
    "\n",
    "# Calculate the tax revenues of consumers after the tax reform.\n",
    "tax_revenues_reform, hs_star_reform = ip.tax_revenues(mp_reform, ms)\n",
    "\n",
    "# Print results\n",
    "print(f'Avg. tax after reform: {tax_revenues_reform.mean()*1e3: 2.3f}')\n",
    "print(f' min tax: {tax_revenues_reform.min() * 1e3: 2.3f}, \\n max tax: {tax_revenues_reform.max() * 1e3: 2.3f}')"
   ]
  },
  {
   "cell_type": "markdown",
   "metadata": {},
   "source": [
    "# Question 5"
   ]
  },
  {
   "cell_type": "code",
   "execution_count": 13,
   "metadata": {},
   "outputs": [
    {
     "name": "stdout",
     "output_type": "stream",
     "text": [
      "New tau_g to equalize tax revenue after reform:  0.00775821919673834\n",
      "Average tax revenue before equalizing reform, thousands:  36.171\n",
      "Average tax revenue after equalizing reform, thousands:   36.171\n",
      "Difference in average revenues:   0.00000000\n"
     ]
    }
   ],
   "source": [
    "# Create a new dictionary\n",
    "mp_reform_eq = mp_reform.copy()\n",
    "\n",
    "#Objective function for equalizing tax revenues \n",
    "def objective(tau_g, tax_target, ms, mp):\n",
    "    mp['tau_g'] = tau_g # New versions of tau_g\n",
    "    new_taxes, hs_stars = ip.tax_revenues(mp, ms) \n",
    "    return tax_target - new_taxes.mean()\n",
    "\n",
    "# Call optimizer.\n",
    "tax_target = avg_tax_revenue_base\n",
    "tau_g0 = 0.005 # Initial guess of tau_g\n",
    "tax_reform_sol = optimize.root(objective, tau_g0, args=(tax_target, ms, mp_reform_eq)) \n",
    "\n",
    "# Solve\n",
    "mp_reform_eq['tau_g'] = tax_reform_sol.x[0]\n",
    "\n",
    "# Check delta equal to 0, i.e. no difference before or after the reform\n",
    "taxes_after_reform, hs_stars = ip.tax_revenues(mp_reform_eq, ms)\n",
    "avg_tax_revenue_reform = taxes_after_reform.mean() \n",
    "tax_revenue_delta = tax_target - avg_tax_revenue_reform\n",
    "\n",
    "# Print \n",
    "print('New tau_g to equalize tax revenue after reform: ', mp_reform_eq['tau_g'])\n",
    "print(f'Average tax revenue before equalizing reform, thousands: {tax_target * 1e3: 2.3f}')\n",
    "print(f'Average tax revenue after equalizing reform, thousands:  {avg_tax_revenue_reform * 1e3: 2.3f}')\n",
    "print(f'Difference in average revenues:  {tax_revenue_delta: 2.8f}')"
   ]
  },
  {
   "cell_type": "markdown",
   "metadata": {},
   "source": [
    "# Conclusion"
   ]
  },
  {
   "cell_type": "markdown",
   "metadata": {},
   "source": [
    "The model framework can be setup in code such that i simulated scenario allows for a clear solution to each problem that easily demonstrates the dynamics of the model. \n",
    "It is shown that the reforming the tax without concern for distortion in the average tax burden for each household yields a sub-optimal solution. However, the problem can be solved by ensuring no distortion in the tax burden by offsetting the parameter increases using T^g such that there is no difference in the tax revenues after the reform. "
   ]
  },
  {
   "cell_type": "code",
   "execution_count": null,
   "metadata": {},
   "outputs": [],
   "source": []
  },
  {
   "cell_type": "code",
   "execution_count": null,
   "metadata": {},
   "outputs": [],
   "source": []
  }
 ],
 "metadata": {
  "kernelspec": {
   "display_name": "Python 3",
   "language": "python",
   "name": "python3"
  },
  "language_info": {
   "codemirror_mode": {
    "name": "ipython",
    "version": 3
   },
   "file_extension": ".py",
   "mimetype": "text/x-python",
   "name": "python",
   "nbconvert_exporter": "python",
   "pygments_lexer": "ipython3",
   "version": "3.8.8"
  },
  "toc-autonumbering": true
 },
 "nbformat": 4,
 "nbformat_minor": 4
}
